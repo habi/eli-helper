{
 "cells": [
  {
   "cell_type": "markdown",
   "metadata": {},
   "source": [
    "# Generating a WMS template\n",
    "\n",
    "This Jupyter notebook can be used to generate a template using a WMS Server.\n",
    "\n",
    "**Click on the cell below and click on \"Run\" to import the necessary libraries.**"
   ]
  },
  {
   "cell_type": "code",
   "execution_count": null,
   "metadata": {},
   "outputs": [],
   "source": [
    "from xml.etree import ElementTree\n",
    "from owslib.wms import WebMapService\n",
    "import requests\n",
    "from collections import OrderedDict\n",
    "import json"
   ]
  },
  {
   "cell_type": "markdown",
   "metadata": {},
   "source": [
    "Update wms_url in the following cell. Then activate the cell and click on \"Run\"."
   ]
  },
  {
   "cell_type": "code",
   "execution_count": null,
   "metadata": {},
   "outputs": [],
   "source": [
    "wms_url = 'https://wms.zh.ch/OGDLidarZH?SERVICE=WMS&Request=GetCapabilities'"
   ]
  },
  {
   "cell_type": "markdown",
   "metadata": {},
   "source": [
    "Next, activate the following cell and click on \"Run\". At the end of the cell you can then select the required properties of the service."
   ]
  },
  {
   "cell_type": "code",
   "execution_count": null,
   "metadata": {},
   "outputs": [],
   "source": [
    "def get_wms_version(url):\n",
    "    response = requests.get(url)\n",
    "    tree = ElementTree.fromstring(response.content)\n",
    "    version = tree.attrib['version']\n",
    "    return version\n",
    "\n",
    "version = get_wms_version(wms_url)\n",
    "wms = WebMapService(wms_url, version=version)\n",
    "\n",
    "layers = list(wms.contents)\n",
    "\n",
    "for i, layer in enumerate(layers):\n",
    "    print(\"{}: {} ({})\".format(i,\n",
    "                               layers[i],\n",
    "                               wms[layers[i]].title))\n",
    "\n",
    "print(\" \")\n",
    "selected_layer_idx = int(input(\"Select Layer: \"))\n",
    "print(\" \")\n",
    "\n",
    "assert 0 <= selected_layer_idx < len(layers)\n",
    "selected_layer = layers[selected_layer_idx]\n",
    "\n",
    "crs_options = wms[selected_layer].crsOptions\n",
    "bbox = wms[selected_layer].boundingBoxWGS84\n",
    "\n",
    "\n",
    "styles = wms[selected_layer].styles\n",
    "selected_style = None\n",
    "if len(styles) > 0:\n",
    "    for i, style in enumerate(styles):\n",
    "        print(\"{}: {} ({})\".format(i, style, styles[style]['title']))\n",
    "    print(\" \")\n",
    "    selected_style_idx = int(input(\"Select Style: \"))\n",
    "    print(\" \")\n",
    "    \n",
    "    assert 0 <= selected_style_idx < len(styles)\n",
    "    selected_style = list(styles.keys())[selected_style_idx]\n",
    "    \n",
    "format_options = wms.getOperationByName('GetMap').formatOptions\n",
    "for i, format_option in enumerate(format_options):\n",
    "    print(\"{}: {}\".format(i, format_option))\n",
    "\n",
    "print(\" \")\n",
    "selected_format_idx = int(input(\"Select Format: \"))\n",
    "print(\" \")\n",
    "assert 0 <= selected_format_idx < len(format_options)\n",
    "selected_format = format_options[selected_format_idx]\n",
    "\n",
    "wms_paramters = {}\n",
    "wms_paramters['LAYERS'] = selected_layer\n",
    "if selected_style is not None:\n",
    "    wms_paramters['STYLES'] = selected_style\n",
    "wms_paramters['FORMAT'] = selected_format\n",
    "wms_paramters['CRS'] = '{proj}'\n",
    "wms_paramters['WIDTH'] = '{width}'\n",
    "wms_paramters['HEIGHT'] = '{height}'\n",
    "wms_paramters['BBOX'] = '{bbox}'\n",
    "wms_paramters['VERSION'] = version\n",
    "wms_paramters['SERVICE'] = 'WMS'\n",
    "wms_paramters['REQUEST'] = 'GetMap'\n",
    "\n",
    "baseurl = wms_url.split(\"?\")[0]\n",
    "service_url = baseurl + \"?\" + \"&\".join([\"{}={}\".format(key, value) for key, value in wms_paramters.items()])\n",
    "\n",
    "result = OrderedDict()\n",
    "result['type'] = 'Feature'\n",
    "result['bbox'] = ''\n",
    "result['properties'] = OrderedDict()\n",
    "result['properties']['name'] = ''\n",
    "result['properties']['i18n'] = False\n",
    "result['properties']['type'] = 'wms'\n",
    "result['properties']['url'] = service_url\n",
    "result['properties']['min_zoom'] = 0\n",
    "result['properties']['max_zoom'] = 1\n",
    "result['properties']['permission_osm'] = ''\n",
    "result['properties']['license'] = ''\n",
    "result['properties']['license_url'] = ''\n",
    "result['properties']['privacy_policy_url'] = ''\n",
    "result['properties']['id'] = ''\n",
    "result['properties']['description'] = ''\n",
    "result['properties']['country_code'] = ''\n",
    "result['properties']['default'] = False\n",
    "result['properties']['best'] = False\n",
    "result['properties']['start_date'] = ''\n",
    "result['properties']['end_date'] = ''\n",
    "result['properties']['no_tile_header'] = ''\n",
    "result['properties']['overlay'] = ''\n",
    "result['properties']['category'] = ''\n",
    "result['properties']['available_projections'] = crs_options\n",
    "result['properties']['attribution'] = {'url': '',\n",
    "                                       'text': '',\n",
    "                                       'html': '',\n",
    "                                       'required': True}\n",
    "result['properties']['icon'] = ''\n",
    "result['geometry'] = ''\n",
    "\n",
    "print(\"\")\n",
    "print(\"Copy the following output:\")\n",
    "print(\"-------------------------\")\n",
    "print(json.dumps(result,\n",
    "                 indent=4,\n",
    "                 sort_keys=False))\n",
    "print(\"-------------------------\")"
   ]
  },
  {
   "cell_type": "code",
   "execution_count": null,
   "metadata": {},
   "outputs": [],
   "source": []
  }
 ],
 "metadata": {
  "kernelspec": {
   "display_name": "Python 3",
   "language": "python",
   "name": "python3"
  },
  "language_info": {
   "codemirror_mode": {
    "name": "ipython",
    "version": 3
   },
   "file_extension": ".py",
   "mimetype": "text/x-python",
   "name": "python",
   "nbconvert_exporter": "python",
   "pygments_lexer": "ipython3",
   "version": "3.8.1"
  }
 },
 "nbformat": 4,
 "nbformat_minor": 2
}
